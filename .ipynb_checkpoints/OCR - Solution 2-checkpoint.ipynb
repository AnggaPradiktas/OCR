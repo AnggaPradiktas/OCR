{
 "cells": [
  {
   "cell_type": "code",
   "execution_count": 16,
   "metadata": {},
   "outputs": [],
   "source": [
    "from PIL import Image \n",
    "import pytesseract \n",
    "import sys \n",
    "from pdf2image import convert_from_path \n",
    "import os \n",
    "import re"
   ]
  },
  {
   "cell_type": "code",
   "execution_count": 5,
   "metadata": {},
   "outputs": [],
   "source": [
    "# Path of the pdf \n",
    "PDF_file = \"bankstatementinput.pdf\""
   ]
  },
  {
   "cell_type": "code",
   "execution_count": 6,
   "metadata": {},
   "outputs": [],
   "source": [
    "pytesseract.pytesseract.tesseract_cmd = r\"C:\\Program Files\\Tesseract-OCR\\tesseract.exe\""
   ]
  },
  {
   "cell_type": "code",
   "execution_count": 7,
   "metadata": {},
   "outputs": [],
   "source": [
    "# Store all the pages of the PDF in a variable \n",
    "pages = convert_from_path(PDF_file,500) \n",
    "  "
   ]
  },
  {
   "cell_type": "code",
   "execution_count": 8,
   "metadata": {},
   "outputs": [],
   "source": [
    "# Counter to store images of each page of PDF to image \n",
    "image_counter = 1\n",
    "  \n",
    "# Iterate through all the pages stored above \n",
    "for page in pages: \n",
    "  \n",
    "    # Declaring filename for each page of PDF as JPG \n",
    "    # For each page, filename will be: \n",
    "    # PDF page 1 -> page_1.jpg \n",
    "    # PDF page 2 -> page_2.jpg \n",
    "    # PDF page 3 -> page_3.jpg \n",
    "    # .... \n",
    "    # PDF page n -> page_n.jpg \n",
    "    filename = \"page_\"+str(image_counter)+\".jpg\"\n",
    "      \n",
    "    # Save the image of the page in system \n",
    "    page.save(filename, 'JPEG') \n",
    "  \n",
    "    # Increment the counter to update filename \n",
    "    image_counter = image_counter + 1"
   ]
  },
  {
   "cell_type": "code",
   "execution_count": 32,
   "metadata": {},
   "outputs": [],
   "source": [
    "  \n",
    "''' \n",
    "Part #2 - Recognizing text from the images using OCR \n",
    "'''\n",
    "\n",
    "# Variable to get count of total number of pages \n",
    "filelimit = image_counter-1\n",
    "  \n",
    "# Creating a text file to write the output \n",
    "#outfile = \"out_text.txt\"\n",
    "  \n",
    "# Open the file in append mode so that  \n",
    "# All contents of all images are added to the same file \n",
    "#f = open(outfile, \"a\") \n",
    "\n",
    "datas = []\n",
    "# Iterate from 1 to total number of pages \n",
    "for i in range(1, filelimit + 1): \n",
    "  \n",
    "    # Set filename to recognize text from \n",
    "    # Again, these files will be: \n",
    "    # page_1.jpg \n",
    "    # page_2.jpg \n",
    "    # .... \n",
    "    # page_n.jpg \n",
    "    filename = \"page_\"+str(i)+\".jpg\"\n",
    "          \n",
    "    # Recognize the text as string in image using pytesserct \n",
    "    text = str(((pytesseract.image_to_string(Image.open(filename)))))\n",
    "  \n",
    "    # The recognized text is stored in variable text \n",
    "    # Any string processing may be applied on text \n",
    "    # Here, basic formatting has been done: \n",
    "    # In many PDFs, at line ending, if a word can't \n",
    "    # be written fully, a 'hyphen' is added. \n",
    "    # The rest of the word is written in the next line \n",
    "    # Eg: This is a sample text this word here GeeksF- \n",
    "    # orGeeks is half on first line, remaining on next. \n",
    "    # To remove this, we replace every '-\\n' to ''. \n",
    "    text = text.replace('&\\na','').split('\\n')\n",
    "\n",
    "    \n",
    "    datas.append(text)\n",
    "  \n",
    "    # Finally, write the processed text to the file. \n",
    "    #f.write(text)\n",
    "\n",
    "  \n",
    "#Close the file after writing all the text\n",
    "#f.close() "
   ]
  },
  {
   "cell_type": "code",
   "execution_count": 33,
   "metadata": {},
   "outputs": [
    {
     "data": {
      "text/plain": [
       "[['DBS Bank Ltd',\n",
       "  '',\n",
       "  '12 Marina Boulevard, Marina Bay Financial Centre Tower 3, Singapore 018982',\n",
       "  '',\n",
       "  'www.dbs.com.sg | www.posb.com.sg ',\n",
       "  '',\n",
       "  'S/N: EN05310800573439 CONSOLIDATED STATEMENT',\n",
       "  '',\n",
       "  'JOHN RIEGER',\n",
       "  '',\n",
       "  'KTGIF SINGAPORE PTE. LTD.',\n",
       "  '',\n",
       "  '26B TEMPLE STREET',\n",
       "  '',\n",
       "  '#03-00',\n",
       "  '',\n",
       "  'SINGAPORE 058571',\n",
       "  '',\n",
       "  'Laff daft Hdfefag tf fad] For enquiries, please call our 24-Hour Hotline',\n",
       "  '',\n",
       "  'at 1800- 111 1111 (in Singapore) or (65) 632',\n",
       "  '2265 (outside Singapore)',\n",
       "  '',\n",
       "  'ACCOUNT SUMMARY | Asat 31 Aug 2018',\n",
       "  '',\n",
       "  'DEPOSITS',\n",
       "  '',\n",
       "  'MULTI CURRENCY',\n",
       "  '',\n",
       "  'Balance',\n",
       "  'Account Account Number (S$ Equivalent)',\n",
       "  'DBS Multiplier Account 12-145753-2',\n",
       "  'SGD 2,943.76 2,943.76',\n",
       "  '',\n",
       "  ' ',\n",
       "  '',\n",
       "  ' ',\n",
       "  '',\n",
       "  'TOTAL DEPOSITS — CREDIT 2,943.76'],\n",
       " ['DBS Bank Ltd',\n",
       "  '',\n",
       "  '12 Marina Boulevard, Marina Bay Financial Centre Tower 3, Singapore 018982',\n",
       "  '',\n",
       "  'www.dbs.com.sg | www.posb.com.sg ',\n",
       "  '',\n",
       "  'ACCOUNT DETAILS | Asat31 Aug 2018',\n",
       "  '',\n",
       "  'DEPOSITS',\n",
       "  '',\n",
       "  'DBS Multiplier Account',\n",
       "  '',\n",
       "  'Date Description Withdrawal Deposit',\n",
       "  'CURRENCY: SINGAPORE DOLLAR',\n",
       "  '',\n",
       "  'Balance Brought Forward',\n",
       "  '',\n",
       "  '28 Aug Quick Cheque Deposit 1,254.12',\n",
       "  '30 Aug Point-of-Sale Transaction 20.00',\n",
       "  'TRANSIT LINK PTE LTD',\n",
       "  '30 Aug Point-of-Sale Transaction 465.00',\n",
       "  'S&S LINKERS PTE LTD',\n",
       "  '31 Aug Point-of-Sale Transaction 26.50',\n",
       "  'GAYATRI RESTAURANT',\n",
       "  '31 Aug Point-of-Sale Transaction 16.00',\n",
       "  'FOCUS NETWORK AGENCIES (S) PTE LTD',\n",
       "  'Total 527.50 1,254.12',\n",
       "  '',\n",
       "  'Balance Carried Forward']]"
      ]
     },
     "execution_count": 33,
     "metadata": {},
     "output_type": "execute_result"
    }
   ],
   "source": [
    "datas"
   ]
  },
  {
   "cell_type": "code",
   "execution_count": 46,
   "metadata": {},
   "outputs": [],
   "source": [
    "for i in datas:\n",
    "    datas_merger = datas[0] + datas[1]"
   ]
  },
  {
   "cell_type": "code",
   "execution_count": 49,
   "metadata": {},
   "outputs": [
    {
     "name": "stdout",
     "output_type": "stream",
     "text": [
      "{'Name': 'JOHN RIEGER', 'Address': 'KTGIF SINGAPORE PTE. LTD.', 'Account': 'DBS Multiplier Account 12-145753-2'}\n"
     ]
    }
   ],
   "source": [
    "custData = {}\n",
    "for i in range(len(datas_merger)):\n",
    "    if 'S/N:' in datas_merger[i]:\n",
    "        custData['Name'] = datas_merger[i+2]\n",
    "        custData['Address'] = datas_merger[i+4]\n",
    "        custData['Account'] = datas_merger[i+25]\n",
    "        custData['']\n",
    "        \n",
    "print(custData)"
   ]
  },
  {
   "cell_type": "code",
   "execution_count": null,
   "metadata": {},
   "outputs": [],
   "source": [
    "sum(a, [])"
   ]
  },
  {
   "cell_type": "code",
   "execution_count": null,
   "metadata": {},
   "outputs": [],
   "source": []
  },
  {
   "cell_type": "code",
   "execution_count": null,
   "metadata": {},
   "outputs": [],
   "source": []
  }
 ],
 "metadata": {
  "kernelspec": {
   "display_name": "Python 3",
   "language": "python",
   "name": "python3"
  },
  "language_info": {
   "codemirror_mode": {
    "name": "ipython",
    "version": 3
   },
   "file_extension": ".py",
   "mimetype": "text/x-python",
   "name": "python",
   "nbconvert_exporter": "python",
   "pygments_lexer": "ipython3",
   "version": "3.6.8"
  }
 },
 "nbformat": 4,
 "nbformat_minor": 2
}
