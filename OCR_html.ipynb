{
 "cells": [
  {
   "cell_type": "markdown",
   "metadata": {},
   "source": [
    "Load the html using beautifulsoup"
   ]
  },
  {
   "cell_type": "code",
   "execution_count": 1,
   "metadata": {},
   "outputs": [],
   "source": [
    "from bs4 import BeautifulSoup\n",
    "\n",
    "soup = BeautifulSoup(open(\"bankstatement.html\"), \"html.parser\")"
   ]
  },
  {
   "cell_type": "markdown",
   "metadata": {},
   "source": [
    "Then, parse the properties based on the html tag"
   ]
  },
  {
   "cell_type": "code",
   "execution_count": 2,
   "metadata": {},
   "outputs": [],
   "source": [
    "accountname = soup.find('p', {'b' : '520'})\n",
    "accountaddress = soup.find_all('p', {'b' : ('566','608','651','694')})\n",
    "statementdate = soup.find('p', {'b' : '1119'})\n",
    "accountnumber =  soup.find('p', {'b' : ('1691')})\n",
    "list_transaction_1 = soup.find_all('p', {'baseline' : ('1098','1083')})\n",
    "list_transaction_2 = soup.find_all('p', {'baseline' : ('1208','1251')})\n",
    "list_transaction_3 = soup.find_all('p', {'baseline' : ('1318','1361')})\n",
    "list_transaction_4 = soup.find_all('p', {'baseline' : ('1428','1471')})\n",
    "list_transaction_5 = soup.find_all('p', {'baseline' : ('1538','1581')})"
   ]
  },
  {
   "cell_type": "markdown",
   "metadata": {},
   "source": [
    "Remove the tags and extract the text only "
   ]
  },
  {
   "cell_type": "code",
   "execution_count": 3,
   "metadata": {},
   "outputs": [],
   "source": [
    "Name = accountname.text\n",
    "Address = accountaddress[0].text + accountaddress[1].text + ' ' + accountaddress[2].text + ' ' +accountaddress[3].text\n",
    "Statement_Date = statementdate.text\n",
    "Account_Number = accountnumber.text\n",
    "Transaction_1 = list_transaction_1[1].text + ',' + list_transaction_1[2].text + ',' + list_transaction_1[0].text\n",
    "Transaction_2 = list_transaction_2[0].text + ',' + list_transaction_2[1].text + ',' + list_transaction_2[2].text + ',' + list_transaction_2[3].text\n",
    "Transaction_3 = list_transaction_3[0].text + ',' + list_transaction_3[1].text + ',' + list_transaction_3[2].text + ',' + list_transaction_3[3].text\n",
    "Transaction_4 = list_transaction_4[0].text + ',' + list_transaction_4[1].text + ',' + list_transaction_4[2].text + ',' + list_transaction_4[3].text\n",
    "Transaction_5 = list_transaction_5[0].text + ',' + list_transaction_5[1].text + ',' + list_transaction_5[2].text + ',' + list_transaction_5[3].text"
   ]
  },
  {
   "cell_type": "code",
   "execution_count": 4,
   "metadata": {},
   "outputs": [
    {
     "name": "stdout",
     "output_type": "stream",
     "text": [
      "(u'JOHN RIEGER', u'KTGIF SINGAPORE PTE. LTD.26B TEMPLE STREET #03-00 SINGAPORE 058571', u'ACCOUNT SUMMARY | As at 31 Aug 2018', u'12-145753-2', u'28 Aug,Quick Cheque Deposit,1.254.12')\n"
     ]
    }
   ],
   "source": [
    "print(Name, Address, Statement_Date, Account_Number, Transaction_1)"
   ]
  },
  {
   "cell_type": "code",
   "execution_count": 5,
   "metadata": {},
   "outputs": [],
   "source": [
    "name = []\n",
    "address = []\n",
    "statement_date = []\n",
    "account_number = []\n",
    "transaction_1 = []\n",
    "transaction_2 = []\n",
    "transaction_3 = []\n",
    "transaction_4 = []\n",
    "transaction_5 = []"
   ]
  },
  {
   "cell_type": "markdown",
   "metadata": {},
   "source": [
    "Append the value and after that store it in a dataframe"
   ]
  },
  {
   "cell_type": "code",
   "execution_count": 6,
   "metadata": {},
   "outputs": [],
   "source": [
    "name.append(Name)\n",
    "address.append(Address)\n",
    "statement_date.append(Statement_Date)\n",
    "account_number.append(Account_Number)\n",
    "transaction_1.append(Transaction_1)\n",
    "transaction_2.append(Transaction_2)\n",
    "transaction_3.append(Transaction_3)\n",
    "transaction_4.append(Transaction_4)\n",
    "transaction_5.append(Transaction_5)"
   ]
  },
  {
   "cell_type": "code",
   "execution_count": 7,
   "metadata": {},
   "outputs": [],
   "source": [
    "import pandas as pd\n",
    "\n",
    "ocr_output = pd.DataFrame({\"Name\":[name,None,None,None,None],\n",
    "                           \"Address\":[address,None,None,None,None],\n",
    "                           \"Statement_Date\":[statement_date,None,None,None,None],\n",
    "                           \"Account_Number\":[account_number,None,None,None,None],\n",
    "                           \"Transaction\":[transaction_1,transaction_2,transaction_3,transaction_4,transaction_5]\n",
    "                          })"
   ]
  },
  {
   "cell_type": "code",
   "execution_count": 8,
   "metadata": {},
   "outputs": [
    {
     "data": {
      "text/html": [
       "<div>\n",
       "<style scoped>\n",
       "    .dataframe tbody tr th:only-of-type {\n",
       "        vertical-align: middle;\n",
       "    }\n",
       "\n",
       "    .dataframe tbody tr th {\n",
       "        vertical-align: top;\n",
       "    }\n",
       "\n",
       "    .dataframe thead th {\n",
       "        text-align: right;\n",
       "    }\n",
       "</style>\n",
       "<table border=\"1\" class=\"dataframe\">\n",
       "  <thead>\n",
       "    <tr style=\"text-align: right;\">\n",
       "      <th></th>\n",
       "      <th>Account_Number</th>\n",
       "      <th>Address</th>\n",
       "      <th>Name</th>\n",
       "      <th>Statement_Date</th>\n",
       "      <th>Transaction</th>\n",
       "    </tr>\n",
       "  </thead>\n",
       "  <tbody>\n",
       "    <tr>\n",
       "      <th>0</th>\n",
       "      <td>[12-145753-2]</td>\n",
       "      <td>[KTGIF SINGAPORE PTE. LTD.26B TEMPLE STREET #0...</td>\n",
       "      <td>[JOHN RIEGER]</td>\n",
       "      <td>[ACCOUNT SUMMARY | As at 31 Aug 2018]</td>\n",
       "      <td>[28 Aug,Quick Cheque Deposit,1.254.12]</td>\n",
       "    </tr>\n",
       "    <tr>\n",
       "      <th>1</th>\n",
       "      <td>None</td>\n",
       "      <td>None</td>\n",
       "      <td>None</td>\n",
       "      <td>None</td>\n",
       "      <td>[30 Aug,Point-of-Sale Transaction,20.00,TRANSI...</td>\n",
       "    </tr>\n",
       "    <tr>\n",
       "      <th>2</th>\n",
       "      <td>None</td>\n",
       "      <td>None</td>\n",
       "      <td>None</td>\n",
       "      <td>None</td>\n",
       "      <td>[30 Aug,Point-of-Sale Transaction,465.00,S &amp; S...</td>\n",
       "    </tr>\n",
       "    <tr>\n",
       "      <th>3</th>\n",
       "      <td>None</td>\n",
       "      <td>None</td>\n",
       "      <td>None</td>\n",
       "      <td>None</td>\n",
       "      <td>[31 Aug,Point-of-Sale Transaction,26.50,GAYATR...</td>\n",
       "    </tr>\n",
       "    <tr>\n",
       "      <th>4</th>\n",
       "      <td>None</td>\n",
       "      <td>None</td>\n",
       "      <td>None</td>\n",
       "      <td>None</td>\n",
       "      <td>[31 Aug,Point-of-Sale Transaction,16.00,FOCUS ...</td>\n",
       "    </tr>\n",
       "  </tbody>\n",
       "</table>\n",
       "</div>"
      ],
      "text/plain": [
       "  Account_Number                                            Address  \\\n",
       "0  [12-145753-2]  [KTGIF SINGAPORE PTE. LTD.26B TEMPLE STREET #0...   \n",
       "1           None                                               None   \n",
       "2           None                                               None   \n",
       "3           None                                               None   \n",
       "4           None                                               None   \n",
       "\n",
       "            Name                         Statement_Date  \\\n",
       "0  [JOHN RIEGER]  [ACCOUNT SUMMARY | As at 31 Aug 2018]   \n",
       "1           None                                   None   \n",
       "2           None                                   None   \n",
       "3           None                                   None   \n",
       "4           None                                   None   \n",
       "\n",
       "                                         Transaction  \n",
       "0             [28 Aug,Quick Cheque Deposit,1.254.12]  \n",
       "1  [30 Aug,Point-of-Sale Transaction,20.00,TRANSI...  \n",
       "2  [30 Aug,Point-of-Sale Transaction,465.00,S & S...  \n",
       "3  [31 Aug,Point-of-Sale Transaction,26.50,GAYATR...  \n",
       "4  [31 Aug,Point-of-Sale Transaction,16.00,FOCUS ...  "
      ]
     },
     "execution_count": 8,
     "metadata": {},
     "output_type": "execute_result"
    }
   ],
   "source": [
    "ocr_output"
   ]
  }
 ],
 "metadata": {
  "kernelspec": {
   "display_name": "Python 3",
   "language": "python",
   "name": "python3"
  },
  "language_info": {
   "codemirror_mode": {
    "name": "ipython",
    "version": 2
   },
   "file_extension": ".py",
   "mimetype": "text/x-python",
   "name": "python",
   "nbconvert_exporter": "python",
   "pygments_lexer": "ipython2",
   "version": "2.7.16"
  }
 },
 "nbformat": 4,
 "nbformat_minor": 2
}
