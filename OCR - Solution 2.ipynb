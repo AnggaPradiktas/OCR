{
 "cells": [
  {
   "cell_type": "markdown",
   "metadata": {},
   "source": [
    "### Solution 2"
   ]
  },
  {
   "cell_type": "markdown",
   "metadata": {},
   "source": [
    "In solutions 2, I tried to extract just specific informations needed, such as name, address, amount transactions, etc."
   ]
  },
  {
   "cell_type": "code",
   "execution_count": 1,
   "metadata": {},
   "outputs": [],
   "source": [
    "from PIL import Image \n",
    "import pytesseract \n",
    "import sys \n",
    "from pdf2image import convert_from_path \n",
    "import os \n",
    "import pandas as pd"
   ]
  },
  {
   "cell_type": "code",
   "execution_count": 2,
   "metadata": {},
   "outputs": [],
   "source": [
    "# Path of the pdf \n",
    "PDF_file = \"bankstatementinput.pdf\""
   ]
  },
  {
   "cell_type": "code",
   "execution_count": 3,
   "metadata": {},
   "outputs": [],
   "source": [
    "pytesseract.pytesseract.tesseract_cmd = r\"C:\\Program Files\\Tesseract-OCR\\tesseract.exe\""
   ]
  },
  {
   "cell_type": "code",
   "execution_count": 4,
   "metadata": {},
   "outputs": [],
   "source": [
    "# Store all the pages of the PDF in a variable \n",
    "pages = convert_from_path(PDF_file)"
   ]
  },
  {
   "cell_type": "code",
   "execution_count": 5,
   "metadata": {},
   "outputs": [],
   "source": [
    "# Counter to store images of each page of PDF to image \n",
    "image_counter = 1\n",
    "  \n",
    "# Iterate through all the pages stored above \n",
    "for page in pages: \n",
    "  \n",
    "    # Declaring filename for each page of PDF as JPG \n",
    "    # For each page, filename will be: \n",
    "    # PDF page 1 -> page_1.jpg \n",
    "    # PDF page 2 -> page_2.jpg \n",
    "    # PDF page 3 -> page_3.jpg \n",
    "    # .... \n",
    "    # PDF page n -> page_n.jpg \n",
    "    filename = \"page_\"+str(image_counter)+\".jpg\"\n",
    "      \n",
    "    # Save the image of the page in system \n",
    "    page.save(filename, 'JPEG') \n",
    "  \n",
    "    # Increment the counter to update filename \n",
    "    image_counter = image_counter + 1"
   ]
  },
  {
   "cell_type": "code",
   "execution_count": 6,
   "metadata": {},
   "outputs": [],
   "source": [
    "  \n",
    "''' \n",
    "Part #2 - Recognizing text from the images using OCR \n",
    "'''\n",
    "\n",
    "# Variable to get count of total number of pages \n",
    "filelimit = image_counter-1\n",
    "\n",
    "datas = []\n",
    "# Iterate from 1 to total number of pages \n",
    "for i in range(1, filelimit + 1): \n",
    "  \n",
    "    # Set filename to recognize text from \n",
    "    # Again, these files will be: \n",
    "    # page_1.jpg \n",
    "    # page_2.jpg \n",
    "    # .... \n",
    "    # page_n.jpg \n",
    "    filename = \"page_\"+str(i)+\".jpg\"\n",
    "          \n",
    "    # Recognize the text as string in image using pytesserct \n",
    "    text = str(((pytesseract.image_to_string(Image.open(filename)))))\n",
    "  \n",
    "    text = text.replace('&\\na','').replace('ACCOUNT SUMMARY | Asat','').replace('ACCOUNT DETAILS | Asat','').split('\\n')\n",
    "    \n",
    "    datas.append(text)"
   ]
  },
  {
   "cell_type": "markdown",
   "metadata": {},
   "source": [
    "From the code above, I created 2 lists, lists from page 1 and page 2. And then I combined both of the list become AllList"
   ]
  },
  {
   "cell_type": "code",
   "execution_count": 7,
   "metadata": {},
   "outputs": [],
   "source": [
    "AllList = sum(datas,[])"
   ]
  },
  {
   "cell_type": "code",
   "execution_count": 8,
   "metadata": {},
   "outputs": [],
   "source": [
    "# Names = []\n",
    "# Addresses = []\n",
    "# Accounts = []\n",
    "# StatDates = []\n",
    "# Dates = []"
   ]
  },
  {
   "cell_type": "markdown",
   "metadata": {},
   "source": [
    "Extract specific information needed such as name, address, and transaction details."
   ]
  },
  {
   "cell_type": "code",
   "execution_count": 9,
   "metadata": {},
   "outputs": [],
   "source": [
    "custData = {}\n",
    "for i in range(len(AllList)):\n",
    "    if 'S/N:' in AllList[i]:\n",
    "        custData['Name'] = AllList[i+2]\n",
    "#         Names.append(custData['Name'])\n",
    "        custData['Address'] = AllList[i+4:i+10]\n",
    "        custData['Address'] = ' '.join(custData['Address'])\n",
    "#         Addresses.append(custData['Address'])\n",
    "        custData['Account'] = AllList[i+22]\n",
    "#         Accounts.append(custData['Account'])\n",
    "        custData['Statement Date'] = AllList[i+15]\n",
    "#         StatDates.append(custData['Statement Date'])\n",
    "    elif 'Balance Brought Forward' in AllList[i]:\n",
    "        custData['Transaction Date'] = [AllList[i+3][0:6], AllList[i+5][0:6], AllList[i+7][0:6], AllList[i+9][0:6]]\n",
    "        custData['Transaction Type'] = [AllList[i+3][7:33], AllList[i+5][7:33], AllList[i+7][7:33], AllList[i+9][7:33]]\n",
    "        custData['Transaction Amount'] = [AllList[i+3][33:], AllList[i+5][33:], AllList[i+7][33:], AllList[i+9][33:]]\n",
    "        custData['Transaction Desc'] = [AllList[i+4], AllList[i+6], AllList[i+8], AllList[i+10]]"
   ]
  },
  {
   "cell_type": "code",
   "execution_count": 10,
   "metadata": {},
   "outputs": [],
   "source": [
    "# I was trying to append and then store it into dataframe but it wasn;t work as I intended, still trying to figure it out.\n",
    "\n",
    "# pd.DataFrame({\"custData['Name']\":Names,\n",
    "#              \"custData['Address']\":Addresses,\n",
    "#              \"custData['Account']\":Accounts,\n",
    "#              \"custData['Statement Date']\":StatDates,\n",
    "#              \"custData['Date']\":Dates})"
   ]
  },
  {
   "cell_type": "markdown",
   "metadata": {},
   "source": [
    "Here is the specific output as the assignment stated, I extracted several key informations from the pdfs doc. But This output would not be generic as when the format and layout change the result would probably change "
   ]
  },
  {
   "cell_type": "code",
   "execution_count": 11,
   "metadata": {},
   "outputs": [
    {
     "data": {
      "text/plain": [
       "{'Name': 'JOHN RIEGER',\n",
       " 'Address': 'KTGIF SINGAPORE PTE. LTD. 26B TEMPLE STREET  #03-00  SINGAPORE 058571',\n",
       " 'Account': 'DBS Multiplier Account 12-145753-2',\n",
       " 'Statement Date': '31 Aug 2018',\n",
       " 'Transaction Date': ['30 Aug', '30 Aug', '31 Aug', '31 Aug'],\n",
       " 'Transaction Type': ['Point-of-Sale Transaction ',\n",
       "  'Point-of-Sale Transaction ',\n",
       "  'Point-of-Sale Transaction ',\n",
       "  'Point-of-Sale Transaction '],\n",
       " 'Transaction Amount': ['20.00', '465.00', '26.50', '16.00'],\n",
       " 'Transaction Desc': ['TRANSIT LINK PTE LTD',\n",
       "  'S & S LINKERS PTE LTD',\n",
       "  'GAYATRI RESTAURANT',\n",
       "  'FOCUS NETWORK AGENCIES (S) PTELTD']}"
      ]
     },
     "execution_count": 11,
     "metadata": {},
     "output_type": "execute_result"
    }
   ],
   "source": [
    "custData"
   ]
  },
  {
   "cell_type": "code",
   "execution_count": null,
   "metadata": {},
   "outputs": [],
   "source": []
  }
 ],
 "metadata": {
  "kernelspec": {
   "display_name": "Python 3",
   "language": "python",
   "name": "python3"
  },
  "language_info": {
   "codemirror_mode": {
    "name": "ipython",
    "version": 3
   },
   "file_extension": ".py",
   "mimetype": "text/x-python",
   "name": "python",
   "nbconvert_exporter": "python",
   "pygments_lexer": "ipython3",
   "version": "3.6.8"
  }
 },
 "nbformat": 4,
 "nbformat_minor": 2
}
